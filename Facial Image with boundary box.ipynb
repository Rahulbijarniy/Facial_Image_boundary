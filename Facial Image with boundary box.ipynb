{
 "cells": [
  {
   "cell_type": "code",
   "execution_count": 1,
   "id": "f48763f0",
   "metadata": {},
   "outputs": [],
   "source": [
    "import cv2"
   ]
  },
  {
   "cell_type": "code",
   "execution_count": 2,
   "id": "860951f7",
   "metadata": {},
   "outputs": [],
   "source": [
    "# Load the facial image\n",
    "image_path = \"lena.png\"  # Replace with the actual path to your image\n",
    "image = cv2.imread(image_path)"
   ]
  },
  {
   "cell_type": "code",
   "execution_count": 3,
   "id": "214afb9e",
   "metadata": {},
   "outputs": [],
   "source": [
    "# Load the face cascade classifier\n",
    "face_cascade = cv2.CascadeClassifier(cv2.data.haarcascades + 'haarcascade_frontalface_default.xml')\n",
    "\n",
    "# Detect faces in the image\n",
    "gray = cv2.cvtColor(image, cv2.COLOR_BGR2GRAY)\n",
    "faces = face_cascade.detectMultiScale(gray, scaleFactor=1.1, minNeighbors=5, minSize=(30, 30))"
   ]
  },
  {
   "cell_type": "code",
   "execution_count": 4,
   "id": "900f08f7",
   "metadata": {},
   "outputs": [],
   "source": [
    "# Iterate over detected faces\n",
    "for (x, y, w, h) in faces:\n",
    "    # Define the regions of interest (ROI) for eyes and mouth\n",
    "    roi_eyes = gray[y:y + h, x:x + w]\n",
    "    roi_mouth = gray[y + int(h/2):y + h, x:x + w]\n",
    "\n",
    "    # Detect eyes in the ROI\n",
    "    eye_cascade = cv2.CascadeClassifier(cv2.data.haarcascades + 'haarcascade_eye.xml')\n",
    "    eyes = eye_cascade.detectMultiScale(roi_eyes)\n",
    "\n",
    "    # Calculate the bounding boxes for eyes and mouth\n",
    "    for (ex, ey, ew, eh) in eyes:\n",
    "        # Adjust the coordinates to the global image coordinates\n",
    "        eye_x = x + ex\n",
    "        eye_y = y + ey\n",
    "        eye_w = ew\n",
    "        eye_h = eh\n",
    "        # Draw the bounding box for eyes\n",
    "        cv2.rectangle(image, (eye_x, eye_y), (eye_x + eye_w, eye_y + eye_h), (0, 255, 0), 2)\n",
    "\n",
    "    # Detect mouth in the ROI\n",
    "    mouth_cascade = cv2.CascadeClassifier(\"haarcascade_mcs_mouth.xml\")\n",
    "    mouths = mouth_cascade.detectMultiScale(roi_mouth, scaleFactor=1.1, minNeighbors=5, minSize=(30, 30))\n",
    "\n",
    "\n",
    "    # Calculate the bounding box for mouth\n",
    "    for (mx, my, mw, mh) in mouths:\n",
    "        # Adjust the coordinates to the global image coordinates\n",
    "        mouth_x = x + mx\n",
    "        mouth_y = y + int(h/2) + my\n",
    "        mouth_w = mw\n",
    "        mouth_h = mh\n",
    "        # Draw the bounding box for mouth\n",
    "        cv2.rectangle(image, (mouth_x, mouth_y), (mouth_x + mouth_w, mouth_y + mouth_h), (0, 0, 255), 2)"
   ]
  },
  {
   "cell_type": "code",
   "execution_count": 5,
   "id": "bfca942c",
   "metadata": {},
   "outputs": [],
   "source": [
    "# Show the image with bounding boxes\n",
    "cv2.imshow(\"Facial Image with Bounding Boxes\", image)\n",
    "cv2.waitKey(0)\n",
    "cv2.destroyAllWindows()"
   ]
  }
 ],
 "metadata": {
  "kernelspec": {
   "display_name": "Python 3 (ipykernel)",
   "language": "python",
   "name": "python3"
  },
  "language_info": {
   "codemirror_mode": {
    "name": "ipython",
    "version": 3
   },
   "file_extension": ".py",
   "mimetype": "text/x-python",
   "name": "python",
   "nbconvert_exporter": "python",
   "pygments_lexer": "ipython3",
   "version": "3.10.7"
  }
 },
 "nbformat": 4,
 "nbformat_minor": 5
}
